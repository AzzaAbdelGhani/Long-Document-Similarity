{
 "cells": [
  {
   "cell_type": "code",
   "execution_count": 1,
   "metadata": {
    "colab": {
     "base_uri": "https://localhost:8080/"
    },
    "id": "Xb2DhFcnLFrg",
    "outputId": "572c1ae3-44c2-4e2c-930f-cc2d18744a38"
   },
   "outputs": [
    {
     "name": "stdout",
     "output_type": "stream",
     "text": [
      "Mounted at /content/gdrive\n"
     ]
    }
   ],
   "source": [
    "from google.colab import drive\n",
    "drive.mount('/content/gdrive')"
   ]
  },
  {
   "cell_type": "code",
   "execution_count": 2,
   "metadata": {
    "colab": {
     "base_uri": "https://localhost:8080/"
    },
    "id": "hoTEGKEKMXNe",
    "outputId": "fb3e9efd-5826-4741-bd38-2f8ea4a9bf0a"
   },
   "outputs": [
    {
     "name": "stdout",
     "output_type": "stream",
     "text": [
      "Collecting sentence-transformers\n",
      "  Downloading sentence-transformers-2.2.0.tar.gz (79 kB)\n",
      "\u001b[K     |████████████████████████████████| 79 kB 4.8 MB/s \n",
      "\u001b[?25hCollecting transformers<5.0.0,>=4.6.0\n",
      "  Downloading transformers-4.17.0-py3-none-any.whl (3.8 MB)\n",
      "\u001b[K     |████████████████████████████████| 3.8 MB 11.3 MB/s \n",
      "\u001b[?25hRequirement already satisfied: tqdm in /usr/local/lib/python3.7/dist-packages (from sentence-transformers) (4.63.0)\n",
      "Requirement already satisfied: torch>=1.6.0 in /usr/local/lib/python3.7/dist-packages (from sentence-transformers) (1.10.0+cu111)\n",
      "Requirement already satisfied: torchvision in /usr/local/lib/python3.7/dist-packages (from sentence-transformers) (0.11.1+cu111)\n",
      "Requirement already satisfied: numpy in /usr/local/lib/python3.7/dist-packages (from sentence-transformers) (1.21.5)\n",
      "Requirement already satisfied: scikit-learn in /usr/local/lib/python3.7/dist-packages (from sentence-transformers) (1.0.2)\n",
      "Requirement already satisfied: scipy in /usr/local/lib/python3.7/dist-packages (from sentence-transformers) (1.4.1)\n",
      "Requirement already satisfied: nltk in /usr/local/lib/python3.7/dist-packages (from sentence-transformers) (3.2.5)\n",
      "Collecting sentencepiece\n",
      "  Downloading sentencepiece-0.1.96-cp37-cp37m-manylinux_2_17_x86_64.manylinux2014_x86_64.whl (1.2 MB)\n",
      "\u001b[K     |████████████████████████████████| 1.2 MB 31.6 MB/s \n",
      "\u001b[?25hCollecting huggingface-hub\n",
      "  Downloading huggingface_hub-0.4.0-py3-none-any.whl (67 kB)\n",
      "\u001b[K     |████████████████████████████████| 67 kB 3.4 MB/s \n",
      "\u001b[?25hRequirement already satisfied: typing-extensions in /usr/local/lib/python3.7/dist-packages (from torch>=1.6.0->sentence-transformers) (3.10.0.2)\n",
      "Requirement already satisfied: packaging>=20.0 in /usr/local/lib/python3.7/dist-packages (from transformers<5.0.0,>=4.6.0->sentence-transformers) (21.3)\n",
      "Collecting sacremoses\n",
      "  Downloading sacremoses-0.0.49-py3-none-any.whl (895 kB)\n",
      "\u001b[K     |████████████████████████████████| 895 kB 33.7 MB/s \n",
      "\u001b[?25hRequirement already satisfied: importlib-metadata in /usr/local/lib/python3.7/dist-packages (from transformers<5.0.0,>=4.6.0->sentence-transformers) (4.11.3)\n",
      "Collecting tokenizers!=0.11.3,>=0.11.1\n",
      "  Downloading tokenizers-0.11.6-cp37-cp37m-manylinux_2_12_x86_64.manylinux2010_x86_64.whl (6.5 MB)\n",
      "\u001b[K     |████████████████████████████████| 6.5 MB 36.1 MB/s \n",
      "\u001b[?25hRequirement already satisfied: regex!=2019.12.17 in /usr/local/lib/python3.7/dist-packages (from transformers<5.0.0,>=4.6.0->sentence-transformers) (2019.12.20)\n",
      "Requirement already satisfied: requests in /usr/local/lib/python3.7/dist-packages (from transformers<5.0.0,>=4.6.0->sentence-transformers) (2.23.0)\n",
      "Requirement already satisfied: filelock in /usr/local/lib/python3.7/dist-packages (from transformers<5.0.0,>=4.6.0->sentence-transformers) (3.6.0)\n",
      "Collecting pyyaml>=5.1\n",
      "  Downloading PyYAML-6.0-cp37-cp37m-manylinux_2_5_x86_64.manylinux1_x86_64.manylinux_2_12_x86_64.manylinux2010_x86_64.whl (596 kB)\n",
      "\u001b[K     |████████████████████████████████| 596 kB 35.5 MB/s \n",
      "\u001b[?25hRequirement already satisfied: pyparsing!=3.0.5,>=2.0.2 in /usr/local/lib/python3.7/dist-packages (from packaging>=20.0->transformers<5.0.0,>=4.6.0->sentence-transformers) (3.0.7)\n",
      "Requirement already satisfied: zipp>=0.5 in /usr/local/lib/python3.7/dist-packages (from importlib-metadata->transformers<5.0.0,>=4.6.0->sentence-transformers) (3.7.0)\n",
      "Requirement already satisfied: six in /usr/local/lib/python3.7/dist-packages (from nltk->sentence-transformers) (1.15.0)\n",
      "Requirement already satisfied: urllib3!=1.25.0,!=1.25.1,<1.26,>=1.21.1 in /usr/local/lib/python3.7/dist-packages (from requests->transformers<5.0.0,>=4.6.0->sentence-transformers) (1.24.3)\n",
      "Requirement already satisfied: idna<3,>=2.5 in /usr/local/lib/python3.7/dist-packages (from requests->transformers<5.0.0,>=4.6.0->sentence-transformers) (2.10)\n",
      "Requirement already satisfied: certifi>=2017.4.17 in /usr/local/lib/python3.7/dist-packages (from requests->transformers<5.0.0,>=4.6.0->sentence-transformers) (2021.10.8)\n",
      "Requirement already satisfied: chardet<4,>=3.0.2 in /usr/local/lib/python3.7/dist-packages (from requests->transformers<5.0.0,>=4.6.0->sentence-transformers) (3.0.4)\n",
      "Requirement already satisfied: click in /usr/local/lib/python3.7/dist-packages (from sacremoses->transformers<5.0.0,>=4.6.0->sentence-transformers) (7.1.2)\n",
      "Requirement already satisfied: joblib in /usr/local/lib/python3.7/dist-packages (from sacremoses->transformers<5.0.0,>=4.6.0->sentence-transformers) (1.1.0)\n",
      "Requirement already satisfied: threadpoolctl>=2.0.0 in /usr/local/lib/python3.7/dist-packages (from scikit-learn->sentence-transformers) (3.1.0)\n",
      "Requirement already satisfied: pillow!=8.3.0,>=5.3.0 in /usr/local/lib/python3.7/dist-packages (from torchvision->sentence-transformers) (7.1.2)\n",
      "Building wheels for collected packages: sentence-transformers\n",
      "  Building wheel for sentence-transformers (setup.py) ... \u001b[?25l\u001b[?25hdone\n",
      "  Created wheel for sentence-transformers: filename=sentence_transformers-2.2.0-py3-none-any.whl size=120747 sha256=a111e070dcd9146f8b1c5321ca9265db38f540067bcadee3998ce19082fad65b\n",
      "  Stored in directory: /root/.cache/pip/wheels/83/c0/df/b6873ab7aac3f2465aa9144b6b4c41c4391cfecc027c8b07e7\n",
      "Successfully built sentence-transformers\n",
      "Installing collected packages: pyyaml, tokenizers, sacremoses, huggingface-hub, transformers, sentencepiece, sentence-transformers\n",
      "  Attempting uninstall: pyyaml\n",
      "    Found existing installation: PyYAML 3.13\n",
      "    Uninstalling PyYAML-3.13:\n",
      "      Successfully uninstalled PyYAML-3.13\n",
      "Successfully installed huggingface-hub-0.4.0 pyyaml-6.0 sacremoses-0.0.49 sentence-transformers-2.2.0 sentencepiece-0.1.96 tokenizers-0.11.6 transformers-4.17.0\n",
      "Collecting faiss-gpu\n",
      "  Downloading faiss_gpu-1.7.2-cp37-cp37m-manylinux_2_17_x86_64.manylinux2014_x86_64.whl (85.5 MB)\n",
      "\u001b[K     |████████████████████████████████| 85.5 MB 116 kB/s \n",
      "\u001b[?25hInstalling collected packages: faiss-gpu\n",
      "Successfully installed faiss-gpu-1.7.2\n"
     ]
    }
   ],
   "source": [
    "!pip3 install -U sentence-transformers\n",
    "!pip install faiss-gpu"
   ]
  },
  {
   "cell_type": "code",
   "execution_count": 3,
   "metadata": {
    "colab": {
     "base_uri": "https://localhost:8080/"
    },
    "id": "i4Hie-8PLUhO",
    "outputId": "5fbb2d28-806e-45af-9197-be03e321d8dd"
   },
   "outputs": [
    {
     "name": "stdout",
     "output_type": "stream",
     "text": [
      "[nltk_data] Downloading package punkt to /root/nltk_data...\n",
      "[nltk_data]   Unzipping tokenizers/punkt.zip.\n"
     ]
    }
   ],
   "source": [
    "import torch\n",
    "import faiss\n",
    "import pandas as pd\n",
    "from tqdm import tqdm\n",
    "import nltk\n",
    "nltk.download('punkt')\n",
    "from nltk.tokenize import sent_tokenize\n",
    "from sentence_transformers import SentenceTransformer, util\n",
    "import pickle\n",
    "import io\n",
    "import os\n",
    "import numpy\n",
    "from sklearn.metrics import accuracy_score\n",
    "import re\n",
    "import time"
   ]
  },
  {
   "cell_type": "code",
   "execution_count": 6,
   "metadata": {
    "id": "_6U-IZDtMPAn"
   },
   "outputs": [],
   "source": [
    "class CPU_Unpickler(pickle.Unpickler):\n",
    "    def find_class(self, module, name):\n",
    "        if module == 'torch.storage' and name == '_load_from_bytes':\n",
    "            return lambda b: torch.load(io.BytesIO(b), map_location='cpu')\n",
    "        else: return super().find_class(module, name)\n",
    "\n",
    "class SBERT_XL_Sum() : \n",
    "    def __init__(self, dataset_name, save=False, saved_embeddings_path = None):\n",
    "        self.device = \"cuda:0\" if torch.cuda.is_available() else \"cpu\"\n",
    "        self.data = self.load_dataset(dataset_name)\n",
    "        if saved_embeddings_path == None:\n",
    "            self.model = SentenceTransformer('distiluse-base-multilingual-cased')\n",
    "            self.model.max_seq_length = self.model.max_seq_length \n",
    "            self.data_embeddings = self.compute_text_embeddings()\n",
    "            if save==True:\n",
    "              with open(dataset_name+'_embeddings.pkl', \"wb\") as fOut:\n",
    "                pickle.dump(self.data_embeddings, fOut, protocol=pickle.HIGHEST_PROTOCOL)\n",
    "        else:\n",
    "            if self.device == \"cpu\":\n",
    "                with open(saved_embeddings_path, \"rb\") as f:\n",
    "                    self.data_embeddings = CPU_Unpickler(f).load()\n",
    "            else:\n",
    "                self.data_embeddings = pd.read_pickle(saved_embeddings_path) \n",
    "\n",
    "        self.results = self.test_model()\n",
    "\n",
    "    def load_dataset(self,dataset_name):\n",
    "        dataset = pd.read_csv('/content/gdrive/MyDrive/Dataset/'+dataset_name+'_dataset.csv')\n",
    "        return dataset\n",
    "    \n",
    "    def split_sentence(self,sentence):\n",
    "        if len(sentence.split()) > 200:\n",
    "            s = []\n",
    "            s.append(' '.join(sentence.split()[:200]))\n",
    "            s.append(' '.join(self.split_sentence(' '.join(sentence.split()[200:]))))\n",
    "            return s\n",
    "        else: \n",
    "            return [sentence]\n",
    "\n",
    "    def compute_text_embeddings(self):\n",
    "        embeddings = []\n",
    "        for id, row in tqdm(self.data.iterrows(), desc=\"compute Embeddings: \"):\n",
    "            summary_sentences = [row.title]\n",
    "            text_sentences = [row.title]\n",
    "            for sentence in sent_tokenize(row.summary):\n",
    "                s = self.split_sentence(sentence)\n",
    "                summary_sentences.extend(s)\n",
    "            summary_embeddings = self.model.encode(summary_sentences, convert_to_tensor=True)\n",
    "            for sentence in sent_tokenize(row.text):\n",
    "                s = self.split_sentence(sentence)\n",
    "                text_sentences .extend(s)\n",
    "            text_embeddings = self.model.encode(text_sentences, convert_to_tensor=True)\n",
    "            embeddings.append({\"title\": row.title, \"lang\": row.lang, \"summary_embedding\": torch.mean(summary_embeddings, dim=0), \"text_embedding\": torch.mean(text_embeddings, dim=0)}) \n",
    "        return embeddings\n",
    "\n",
    "    def faiss_index(self,query_idx,query_lang, query, k):\n",
    "        d = len(self.data_embeddings[query_idx]['text_embedding']) #embedding's size \n",
    "        n = len(self.data_embeddings) #number of articles\n",
    "        other_articles_embeddings = [item['summary_embedding'] for item in self.data_embeddings[:query_idx] if item['lang']==query_lang] + [item['summary_embedding'] for item in self.data_embeddings[query_idx+1:] if item['lang']==query_lang]\n",
    "        document_embeddings = numpy.array([numpy.array(x.cpu()) for x in other_articles_embeddings])\n",
    "        index = faiss.IndexFlatL2(d)   # build the index, d=size of vectors \n",
    "        index.add(document_embeddings)                  \n",
    "        D, I = index.search(query, k) \n",
    "        I_titles = [] \n",
    "        for i in I[0]:\n",
    "            I_titles.append({\"title\":list(self.data.title)[i], \"summary\": list(self.data.summary)[i]})\n",
    "        return(I_titles)\n",
    "\n",
    "    def find_similar_summaries(self, title, num_items):\n",
    "        idx = list(self.data.title).index(title)\n",
    "        query_embed = self.data_embeddings[idx]['text_embedding'].cpu().numpy().reshape(1,len(self.data_embeddings[idx]['text_embedding']))\n",
    "        query_lang = self.data_embeddings[idx]['lang']\n",
    "        similar_docs = self.faiss_index(idx, query_lang=query_lang, query=query_embed, k=num_items)\n",
    "        return similar_docs\n",
    "\n",
    "    def test_model(self, k=10):\n",
    "        model_labels = {}\n",
    "        for title in tqdm(list(self.data.title), desc=\"Find k = {} Similar articles\".format(k)):\n",
    "            model_labels[title] = self.find_similar_summaries(title, k)\n",
    "        return model_labels\n"
   ]
  },
  {
   "cell_type": "code",
   "execution_count": null,
   "metadata": {
    "colab": {
     "base_uri": "https://localhost:8080/"
    },
    "id": "ZHGpyk2tWww_",
    "outputId": "937ad0e2-c32e-4216-c70b-f26e603e3d9f"
   },
   "outputs": [
    {
     "name": "stderr",
     "output_type": "stream",
     "text": [
      "Find k = 10 Similar articles:  10%|▉         | 3960/40461 [21:06<4:04:47,  2.49it/s]"
     ]
    }
   ],
   "source": [
    "#test_sbert = SBERT_XL_Sum(dataset_name=\"test\", save=True)\n",
    "test_sbert = SBERT_XL_Sum(dataset_name=\"test\", saved_embeddings_path='test_embeddings.pkl')"
   ]
  },
  {
   "cell_type": "code",
   "execution_count": null,
   "metadata": {
    "id": "zUbIAG6SkH5x"
   },
   "outputs": [],
   "source": [
    "test_sbert.results"
   ]
  }
 ],
 "metadata": {
  "accelerator": "GPU",
  "colab": {
   "name": "SBERT-XL-Sum.ipynb",
   "provenance": []
  },
  "kernelspec": {
   "display_name": "Python 3 (ipykernel)",
   "language": "python",
   "name": "python3"
  },
  "language_info": {
   "codemirror_mode": {
    "name": "ipython",
    "version": 3
   },
   "file_extension": ".py",
   "mimetype": "text/x-python",
   "name": "python",
   "nbconvert_exporter": "python",
   "pygments_lexer": "ipython3",
   "version": "3.8.10"
  }
 },
 "nbformat": 4,
 "nbformat_minor": 1
}
